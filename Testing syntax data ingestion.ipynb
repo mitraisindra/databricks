{
 "cells": [
  {
   "cell_type": "code",
   "execution_count": 0,
   "metadata": {
    "application/vnd.databricks.v1+cell": {
     "cellMetadata": {
      "byteLimit": 2048000,
      "implicitDf": true,
      "rowLimit": 10000
     },
     "inputWidgets": {},
     "nuid": "d2093757-1d11-4d9e-a3e1-5b9765f9c25e",
     "showTitle": false,
     "tableResultSettingsMap": {},
     "title": ""
    }
   },
   "outputs": [],
   "source": [
    "%sql\n",
    "SELECT current_catalog(), current_schema()"
   ]
  },
  {
   "cell_type": "code",
   "execution_count": 0,
   "metadata": {
    "application/vnd.databricks.v1+cell": {
     "cellMetadata": {
      "byteLimit": 2048000,
      "implicitDf": true,
      "rowLimit": 10000
     },
     "inputWidgets": {},
     "nuid": "37a0f1f0-5431-40b9-992e-a8411cfb7210",
     "showTitle": false,
     "tableResultSettingsMap": {},
     "title": ""
    }
   },
   "outputs": [],
   "source": [
    "%sql\n",
    "LIST '/Volumes/workspace/default/hospital_drug'"
   ]
  },
  {
   "cell_type": "code",
   "execution_count": 0,
   "metadata": {
    "application/vnd.databricks.v1+cell": {
     "cellMetadata": {
      "byteLimit": 2048000,
      "rowLimit": 10000
     },
     "inputWidgets": {},
     "nuid": "5063819c-4ee7-4b11-baf6-f122cdff9eda",
     "showTitle": false,
     "tableResultSettingsMap": {
      "0": {
       "dataGridStateBlob": "{\"version\":1,\"tableState\":{\"columnPinning\":{\"left\":[\"#row_number#\"],\"right\":[]},\"columnSizing\":{},\"columnVisibility\":{}},\"settings\":{\"columns\":{}},\"syncTimestamp\":1752644460498}",
       "filterBlob": null,
       "queryPlanFiltersBlob": null,
       "tableResultIndex": 0
      }
     },
     "title": ""
    }
   },
   "outputs": [],
   "source": [
    "%sql\n",
    "SELECT *\n",
    "FROM read_files(\n",
    "  '/Volumes/workspace/default/hospital_drug',\n",
    "  format => \"json\"\n",
    ")\n",
    "-- LIMIT 10;"
   ]
  },
  {
   "cell_type": "code",
   "execution_count": 0,
   "metadata": {
    "application/vnd.databricks.v1+cell": {
     "cellMetadata": {
      "byteLimit": 2048000,
      "rowLimit": 10000
     },
     "inputWidgets": {},
     "nuid": "b7daccf8-7161-4346-a19f-eb0e63e756dc",
     "showTitle": false,
     "tableResultSettingsMap": {
      "0": {
       "dataGridStateBlob": "{\"version\":1,\"tableState\":{\"columnPinning\":{\"left\":[\"#row_number#\"],\"right\":[]},\"columnSizing\":{\"schema\":1135},\"columnVisibility\":{}},\"settings\":{\"columns\":{}},\"syncTimestamp\":1752805199133}",
       "filterBlob": null,
       "queryPlanFiltersBlob": null,
       "tableResultIndex": 0
      }
     },
     "title": ""
    }
   },
   "outputs": [],
   "source": [
    "SELECT schema_of_json('[{\"id\":1,\"user_id\":1,\"hospital_npi\":\"1326792961\",\"hospital_name\":\"FAMILY MEDICAL CENTER OF MI, INC\",\"hospital_city\":\"TEMPERANCE\",\"drug_name\":null,\"drug_brand\":\"Orphenadrine Citrate\",\"date_taken\":\"2025-05-04T10:11:28Z\",\"drug_price\":3.99}]')\n",
    "AS schema"
   ]
  },
  {
   "cell_type": "code",
   "execution_count": 0,
   "metadata": {
    "application/vnd.databricks.v1+cell": {
     "cellMetadata": {
      "byteLimit": 2048000,
      "rowLimit": 10000
     },
     "inputWidgets": {},
     "nuid": "ec19095c-067a-4ba7-ad76-6aa13a897500",
     "showTitle": false,
     "tableResultSettingsMap": {},
     "title": ""
    }
   },
   "outputs": [],
   "source": [
    "DROP TABLE IF EXISTS hospital_drug_bronze_raw;\n",
    "\n",
    "-- Create the Delta table\n",
    "-- CREATE OR REFRESH STREAMING TABLE hospital_drug_bronze_raw AS\n",
    "CREATE OR REPLACE TABLE hospital_drug_bronze_raw AS\n",
    "SELECT *,\n",
    "  cast(from_unixtime(user_first_touch_timestamp / 1000000) AS DATE) AS first_touch_date,\n",
    "  _metadata.file_modification_time AS file_modification_time,      -- Last data source file modification time\n",
    "  _metadata.file_name AS source_file,                              -- Ingest data source file name\n",
    "  current_timestamp() as ingestion_time                            -- Ingestion timestamp\n",
    "FROM read_files(\n",
    "  \"/Volumes/workspace/default/hospital_drug/hospital_drug_MOCK_DATA.json\",\n",
    "  format => \"json\",\n",
    "  rescueddatacolumn => \"_rescued_data\"    -- Create the _rescued_data column\n",
    ");\n",
    "\n",
    "DROP TABLE IF EXISTS transaction_bronze_raw;\n",
    "\n",
    "-- Create the Delta table\n",
    "-- CREATE OR REFRESH STREAMING TABLE transaction_bronze_raw AS\n",
    "CREATE OR REPLACE TABLE transaction_bronze_raw AS\n",
    "SELECT *,\n",
    "  cast(from_unixtime(user_first_touch_timestamp / 1000000) AS DATE) AS first_touch_date,\n",
    "  _metadata.file_modification_time AS file_modification_time,      -- Last data source file modification time\n",
    "  _metadata.file_name AS source_file,                              -- Ingest data source file name\n",
    "  current_timestamp() as ingestion_time                            -- Ingestion timestamp\n",
    "FROM read_files(\n",
    "  \"/Volumes/workspace/default/transaction/transaction_MOCK_DATA.json\",\n",
    "  format => \"json\",\n",
    "  rescueddatacolumn => \"_rescued_data\"    -- Create the _rescued_data column\n",
    ");\n",
    "\n",
    "DROP TABLE IF EXISTS users_bronze_raw;\n",
    "\n",
    "-- Create the Delta table\n",
    "-- CREATE OR REFRESH STREAMING TABLE users_bronze_raw AS\n",
    "CREATE OR REPLACE TABLE users_bronze_raw AS\n",
    "SELECT *,\n",
    "  cast(from_unixtime(user_first_touch_timestamp / 1000000) AS DATE) AS first_touch_date,\n",
    "  _metadata.file_modification_time AS file_modification_time,      -- Last data source file modification time\n",
    "  _metadata.file_name AS source_file,                              -- Ingest data source file name\n",
    "  current_timestamp() as ingestion_time                            -- Ingestion timestamp\n",
    "FROM read_files(\n",
    "  \"/Volumes/workspace/default/users/users_MOCK_DATA.json\",\n",
    "  format => \"json\",\n",
    "  rescueddatacolumn => \"_rescued_data\"    -- Create the _rescued_data column\n",
    ");"
   ]
  },
  {
   "cell_type": "code",
   "execution_count": 0,
   "metadata": {
    "application/vnd.databricks.v1+cell": {
     "cellMetadata": {
      "byteLimit": 2048000,
      "rowLimit": 10000
     },
     "inputWidgets": {},
     "nuid": "fba19da5-df1e-4f02-9c13-49029453d51f",
     "showTitle": false,
     "tableResultSettingsMap": {},
     "title": ""
    }
   },
   "outputs": [],
   "source": [
    "-- Display the table\n",
    "-- SELECT *\n",
    "-- FROM hospital_drug_bronze_raw\n",
    "-- LIMIT 25;\n",
    "\n",
    "SHOW TABLES FROM default"
   ]
  },
  {
   "cell_type": "code",
   "execution_count": 0,
   "metadata": {
    "application/vnd.databricks.v1+cell": {
     "cellMetadata": {
      "byteLimit": 2048000,
      "rowLimit": 10000
     },
     "inputWidgets": {},
     "nuid": "e87b8cfa-1c31-4988-8e3b-f64b9f25faab",
     "showTitle": false,
     "tableResultSettingsMap": {},
     "title": ""
    }
   },
   "outputs": [],
   "source": [
    "DESCRIBE TABLE EXTENDED hospital_drug_bronze_raw;\n"
   ]
  },
  {
   "cell_type": "code",
   "execution_count": 0,
   "metadata": {
    "application/vnd.databricks.v1+cell": {
     "cellMetadata": {},
     "inputWidgets": {},
     "nuid": "89b0056a-f179-418b-abaf-8549710c567a",
     "showTitle": false,
     "tableResultSettingsMap": {},
     "title": ""
    }
   },
   "outputs": [],
   "source": [
    "-- COPY INTO tracks the files it has previously ingested. If the command is run again, no additional data is ingested because the files in the source directory haven't changed.\n",
    "\n",
    "COPY INTO hospital_drug_bronze_raw\n",
    "  FROM '/Volumes/workspace/default/hospital_drug'\n",
    "  FILEFORMAT = json\n",
    "  COPY_OPTIONS ('mergeSchema' = 'true');     -- Merge the schema of each file;\n",
    "\n",
    "COPY INTO transaction_bronze_raw\n",
    "  FROM '/Volumes/workspace/default/transaction'\n",
    "  FILEFORMAT = json\n",
    "  COPY_OPTIONS ('mergeSchema' = 'true');     -- Merge the schema of each file;\n",
    "\n",
    "COPY INTO users_bronze_raw\n",
    "  FROM '/Volumes/workspace/default/users'\n",
    "  FILEFORMAT = json\n",
    "  COPY_OPTIONS ('mergeSchema' = 'true');     -- Merge the schema of each file;"
   ]
  },
  {
   "cell_type": "code",
   "execution_count": 0,
   "metadata": {
    "application/vnd.databricks.v1+cell": {
     "cellMetadata": {
      "byteLimit": 2048000,
      "rowLimit": 10000
     },
     "inputWidgets": {},
     "nuid": "a84ab5fb-e8f3-4e68-98ee-2c09e310a5bb",
     "showTitle": false,
     "tableResultSettingsMap": {},
     "title": ""
    }
   },
   "outputs": [],
   "source": [
    "-- Only for appending new data if the schema has not changed\n",
    "--REFRESH STREAMING TABLE hospital_drug_bronze_raw;\n",
    "\n",
    "DESCRIBE HISTORY hospital_drug_bronze_raw;"
   ]
  },
  {
   "cell_type": "code",
   "execution_count": 0,
   "metadata": {
    "application/vnd.databricks.v1+cell": {
     "cellMetadata": {
      "byteLimit": 2048000,
      "rowLimit": 10000
     },
     "inputWidgets": {},
     "nuid": "0552746c-7bc5-428b-9a3e-316d2efee118",
     "showTitle": false,
     "tableResultSettingsMap": {
      "0": {
       "dataGridStateBlob": "{\"version\":1,\"tableState\":{\"columnPinning\":{\"left\":[\"#row_number#\"],\"right\":[]},\"columnSizing\":{\"isbn\":439},\"columnVisibility\":{}},\"settings\":{\"columns\":{}},\"syncTimestamp\":1752764446123}",
       "filterBlob": null,
       "queryPlanFiltersBlob": null,
       "tableResultIndex": 0
      }
     },
     "title": ""
    }
   },
   "outputs": [],
   "source": [
    "-- CREATE OR REPLACE TABLE store_data AS SELECT\n",
    "-- '{\n",
    "--    \"store\":{\n",
    "--       \"fruit\": [\n",
    "--         {\"weight\":8,\"type\":\"apple\"},\n",
    "--         {\"weight\":9,\"type\":\"pear\"}\n",
    "--       ],\n",
    "--       \"basket\":[\n",
    "--         [1,2,{\"b\":\"y\",\"a\":\"x\"}],\n",
    "--         [3,4],\n",
    "--         [5,6]\n",
    "--       ],\n",
    "--       \"book\":[\n",
    "--         {\n",
    "--           \"author\":\"Nigel Rees\",\n",
    "--           \"title\":\"Sayings of the Century\",\n",
    "--           \"category\":\"reference\",\n",
    "--           \"price\":8.95\n",
    "--         },\n",
    "--         {\n",
    "--           \"author\":\"Herman Melville\",\n",
    "--           \"title\":\"Moby Dick\",\n",
    "--           \"category\":\"fiction\",\n",
    "--           \"price\":8.99,\n",
    "--           \"isbn\":\"0-553-21311-3\"\n",
    "--         },\n",
    "--         {\n",
    "--           \"author\":\"J. R. R. Tolkien\",\n",
    "--           \"title\":\"The Lord of the Rings\",\n",
    "--           \"category\":\"fiction\",\n",
    "--           \"reader\":[\n",
    "--             {\"age\":25,\"name\":\"bob\"},\n",
    "--             {\"age\":26,\"name\":\"jack\"}\n",
    "--           ],\n",
    "--           \"price\":22.99,\n",
    "--           \"isbn\":\"0-395-19395-8\"\n",
    "--         }\n",
    "--       ],\n",
    "--       \"bicycle\":{\n",
    "--         \"price\":19.95,\n",
    "--         \"color\":\"red\"\n",
    "--       }\n",
    "--     },\n",
    "--     \"owner\":\"amy\",\n",
    "--     \"zip code\":\"94025\",\n",
    "--     \"fb:testid\":\"1234\"\n",
    "--  }' as raw;\n",
    "\n",
    "\n",
    " SELECT raw:store.bicycle FROM store_data;\n",
    "\n",
    "-- Use backticks to escape special characters. References are case insensitive when you use backticks.\n",
    "-- Use brackets to make them case sensitive.\n",
    "SELECT raw:`zip code`, raw:`Zip Code`, raw:['fb:testid'] FROM store_data;\n",
    "\n",
    "-- Use brackets\n",
    "SELECT raw:store['bicycle'], raw:store['BICYCLE'] FROM store_data;\n",
    "\n",
    "SELECT explode(from_json(raw:store.book, 'ARRAY<STRUCT<author:STRING,title:STRING,category:STRING,price:DOUBLE,isbn:STRING,reader:ARRAY<STRUCT<age:INT,name:STRING>>>>')) FROM store_data;"
   ]
  },
  {
   "cell_type": "code",
   "execution_count": 0,
   "metadata": {
    "application/vnd.databricks.v1+cell": {
     "cellMetadata": {},
     "inputWidgets": {},
     "nuid": "4af93d84-a68c-4911-8b79-49ac79798545",
     "showTitle": false,
     "tableResultSettingsMap": {},
     "title": ""
    }
   },
   "outputs": [],
   "source": [
    "-- Refreshes the materialized view to reflect the latest available data\n",
    "--REFRESH MATERIALIZED VIEW catalog.schema.view_name;\n",
    "\n",
    "-- Refreshes the streaming table to process the latest available data\n",
    "-- The current catalog and schema will be used to qualify the table\n",
    "REFRESH STREAMING TABLE hospital_drug_bronze_raw;\n",
    "\n",
    "-- Truncates the table and processes all data from scratch for the streaming table\n",
    "REFRESH STREAMING TABLE hospital_drug_bronze_raw FULL;"
   ]
  },
  {
   "cell_type": "code",
   "execution_count": 0,
   "metadata": {
    "application/vnd.databricks.v1+cell": {
     "cellMetadata": {},
     "inputWidgets": {},
     "nuid": "a33a35ce-a9e7-4ec6-a007-3c4aa18a5879",
     "showTitle": false,
     "tableResultSettingsMap": {},
     "title": ""
    }
   },
   "outputs": [],
   "source": [
    "-- Bedanya dengan refresh ini ada target dan source. Kalau merge satu2 lumayan juga\n",
    "\n",
    "--MERGE WITH SCHEMA EVOLUTION INTO main_users_target target  -- Use the MERGE WITH SCHEMA EVOLUTION INTO statement\n",
    "MERGE INTO main_users_target target\n",
    "USING update_users_source source\n",
    "ON target.id = source.id\n",
    "WHEN MATCHED AND source.status = 'update' THEN\n",
    "  UPDATE SET \n",
    "    target.email = source.email,\n",
    "    target.status = source.status\n",
    "WHEN MATCHED AND source.status = 'delete' THEN\n",
    "  DELETE\n",
    "WHEN NOT MATCHED THEN\n",
    "  INSERT (id, first_name, email, sign_up_date, status)\n",
    "  VALUES (source.id, source.first_name, source.email, source.sign_up_date, source.status);"
   ]
  },
  {
   "cell_type": "code",
   "execution_count": 0,
   "metadata": {
    "application/vnd.databricks.v1+cell": {
     "cellMetadata": {
      "byteLimit": 2048000,
      "rowLimit": 10000
     },
     "inputWidgets": {},
     "nuid": "adb55932-fd92-441e-bba8-b599a50328d9",
     "showTitle": false,
     "tableResultSettingsMap": {},
     "title": ""
    }
   },
   "outputs": [],
   "source": [
    "select * FROM transaction_user_drugs_silver"
   ]
  }
 ],
 "metadata": {
  "application/vnd.databricks.v1+notebook": {
   "computePreferences": null,
   "dashboards": [],
   "environmentMetadata": {
    "base_environment": "",
    "environment_version": "2"
   },
   "inputWidgetPreferences": null,
   "language": "sql",
   "notebookMetadata": {
    "mostRecentlyExecutedCommandWithImplicitDF": {
     "commandId": -1,
     "dataframes": [
      "_sqldf"
     ]
    },
    "pythonIndentUnit": 4
   },
   "notebookName": "Testing syntax data ingestion",
   "widgets": {}
  },
  "language_info": {
   "name": "sql"
  }
 },
 "nbformat": 4,
 "nbformat_minor": 0
}
