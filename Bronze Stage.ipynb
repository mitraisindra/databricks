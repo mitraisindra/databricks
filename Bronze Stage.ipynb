{
 "cells": [
  {
   "cell_type": "code",
   "execution_count": 0,
   "metadata": {
    "application/vnd.databricks.v1+cell": {
     "cellMetadata": {
      "byteLimit": 2048000,
      "rowLimit": 10000
     },
     "inputWidgets": {},
     "nuid": "81da0cd5-9a20-4328-848e-431057135b28",
     "showTitle": false,
     "tableResultSettingsMap": {},
     "title": ""
    }
   },
   "outputs": [],
   "source": [
    "DROP TABLE IF EXISTS hospital_drug_bronze_raw;\n",
    "\n",
    "-- Create the Delta table\n",
    "-- CREATE OR REFRESH STREAMING TABLE hospital_drug_bronze_raw AS\n",
    "CREATE OR REPLACE TABLE hospital_drug_bronze_raw AS\n",
    "SELECT *,\n",
    "  cast(date_taken AS TIMESTAMP) AS date_taken_ts,\n",
    "  _metadata.file_modification_time AS file_modification_time,      -- Last data source file modification time\n",
    "  _metadata.file_name AS source_file,                              -- Ingest data source file name\n",
    "  current_timestamp() as ingestion_time                            -- Ingestion timestamp\n",
    "FROM read_files(\n",
    "  :stream_source || \"/hospital_drug/hospital_drug_MOCK_DATA.json\",\n",
    "  format => \"json\",\n",
    "  rescueddatacolumn => \"_rescued_data\"    -- Create the _rescued_data column\n",
    ");"
   ]
  },
  {
   "cell_type": "code",
   "execution_count": 0,
   "metadata": {
    "application/vnd.databricks.v1+cell": {
     "cellMetadata": {
      "byteLimit": 2048000,
      "rowLimit": 10000
     },
     "inputWidgets": {},
     "nuid": "749659dd-7f10-4a55-9571-f079b02c5d8a",
     "showTitle": false,
     "tableResultSettingsMap": {},
     "title": ""
    }
   },
   "outputs": [],
   "source": [
    "DROP TABLE IF EXISTS transaction_bronze_raw;\n",
    "\n",
    "-- Create the Delta table\n",
    "-- CREATE OR REFRESH STREAMING TABLE transaction_bronze_raw AS\n",
    "CREATE OR REPLACE TABLE transaction_bronze_raw AS\n",
    "SELECT *,\n",
    "  cast(transaction_date AS TIMESTAMP) AS transaction_date_ts,\n",
    "  _metadata.file_modification_time AS file_modification_time,      -- Last data source file modification time\n",
    "  _metadata.file_name AS source_file,                              -- Ingest data source file name\n",
    "  current_timestamp() as ingestion_time                            -- Ingestion timestamp\n",
    "FROM read_files(\n",
    "  :stream_source || \"/transaction/transaction_MOCK_DATA.json\",\n",
    "  format => \"json\",\n",
    "  rescueddatacolumn => \"_rescued_data\"    -- Create the _rescued_data column\n",
    ");"
   ]
  },
  {
   "cell_type": "code",
   "execution_count": 0,
   "metadata": {
    "application/vnd.databricks.v1+cell": {
     "cellMetadata": {
      "byteLimit": 2048000,
      "rowLimit": 10000
     },
     "inputWidgets": {},
     "nuid": "cf093b52-e6d1-46f7-8ca2-ddf4c778f7c1",
     "showTitle": false,
     "tableResultSettingsMap": {},
     "title": ""
    }
   },
   "outputs": [],
   "source": [
    "\n",
    "DROP TABLE IF EXISTS users_bronze_raw;\n",
    "\n",
    "-- Create the Delta table\n",
    "-- CREATE OR REFRESH STREAMING TABLE users_bronze_raw AS\n",
    "CREATE OR REPLACE TABLE users_bronze_raw AS\n",
    "SELECT *,\n",
    "  _metadata.file_modification_time AS file_modification_time,      -- Last data source file modification time\n",
    "  _metadata.file_name AS source_file,                              -- Ingest data source file name\n",
    "  current_timestamp() as ingestion_time                            -- Ingestion timestamp\n",
    "FROM read_files(\n",
    "  :stream_source || \"/users/users_MOCK_DATA.json\",\n",
    "  format => \"json\",\n",
    "  rescueddatacolumn => \"_rescued_data\"    -- Create the _rescued_data column\n",
    ");"
   ]
  }
 ],
 "metadata": {
  "application/vnd.databricks.v1+notebook": {
   "computePreferences": null,
   "dashboards": [],
   "environmentMetadata": {
    "base_environment": "",
    "environment_version": "2"
   },
   "inputWidgetPreferences": null,
   "language": "sql",
   "notebookMetadata": {},
   "notebookName": "Bronze Stage",
   "widgets": {
    "stream_source": {
     "currentValue": "",
     "nuid": "bc483d92-0972-4820-9c06-7daf8ad9f00c",
     "typedWidgetInfo": {
      "autoCreated": true,
      "defaultValue": "",
      "label": null,
      "name": "stream_source",
      "options": {
       "widgetDisplayType": "Text",
       "validationRegex": null
      },
      "parameterDataType": "String"
     },
     "widgetInfo": {
      "widgetType": "text",
      "defaultValue": "",
      "label": null,
      "name": "stream_source",
      "options": {
       "widgetType": "text",
       "autoCreated": true,
       "validationRegex": null
      }
     }
    }
   }
  },
  "language_info": {
   "name": "sql"
  }
 },
 "nbformat": 4,
 "nbformat_minor": 0
}
