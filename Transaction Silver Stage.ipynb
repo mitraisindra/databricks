{
 "cells": [
  {
   "cell_type": "code",
   "execution_count": 0,
   "metadata": {
    "application/vnd.databricks.v1+cell": {
     "cellMetadata": {
      "byteLimit": 2048000,
      "rowLimit": 10000
     },
     "inputWidgets": {},
     "nuid": "caf0ff70-a0aa-4a26-8c1d-076c0b43ad55",
     "showTitle": false,
     "tableResultSettingsMap": {},
     "title": ""
    }
   },
   "outputs": [],
   "source": [
    "CREATE OR REFRESH STREAMING TABLE transaction_user_drugs_silver\n",
    "(CONSTRAINT valid_timestamp EXPECT (drug_date_taken > cast(DATE'2024-09-01' AS TIMESTAMP)) ON VIOLATION DROP ROW)\n",
    "COMMENT \"Filtered transaction on drugs data\"\n",
    "TBLPROPERTIES (\"quality\" = \"silver\")\n",
    "AS\n",
    "SELECT\n",
    "  u.id AS user_id,\n",
    "  u.first_name AS user_first_name,\n",
    "  u.last_name AS user_last_name,\n",
    "  u.email,\n",
    "  u.gender,\n",
    "  u.state_country,\n",
    "  u.country,\n",
    "  d.hospital_drug_id,\n",
    "  d.hospital_npi,\n",
    "  d.hospital_name,\n",
    "  d.hospital_city,\n",
    "  d.drug_name,\n",
    "  d.drug_brand,\n",
    "  d.date_taken AS drug_date_taken,\n",
    "  t.transaction_qty,\n",
    "  t.transaction_date\n",
    "FROM \n",
    " (SELECT *\n",
    "  FROM STREAM(LIVE.users_bronze_raw)) AS u\n",
    "INNER JOIN STREAM(LIVE.hospital_drug_bronze_raw) d ON u.id = d.user_id\n",
    "INNER JOIN STREAM(LIVE.transaction_bronze_raw) t ON u.id = t.user_id AND d.hospital_drug_id \n",
    "--   (SELECT *\n",
    "--   FROM STREAM(users_bronze_raw)) AS u\n",
    "-- INNER JOIN STREAM(hospital_drug_bronze_raw) d ON u.user_id = d.drug_user_id\n",
    "WHERE\n",
    "  u.email IS NOT NULL\n",
    "  AND u.state_country IS NOT NULL\n",
    "  AND u.country IS NOT NULL\n",
    "  AND d.drug_brand IS NOT NULL\n",
    "  AND d.drug_name IS NOT NULL\n",
    "  AND d.date_taken IS NOT NULL"
   ]
  }
 ],
 "metadata": {
  "application/vnd.databricks.v1+notebook": {
   "computePreferences": null,
   "dashboards": [],
   "environmentMetadata": {
    "base_environment": "",
    "environment_version": "2"
   },
   "inputWidgetPreferences": null,
   "language": "sql",
   "notebookMetadata": {},
   "notebookName": "Transaction Silver Stage",
   "widgets": {}
  },
  "language_info": {
   "name": "sql"
  }
 },
 "nbformat": 4,
 "nbformat_minor": 0
}
