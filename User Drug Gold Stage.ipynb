{
 "cells": [
  {
   "cell_type": "code",
   "execution_count": 0,
   "metadata": {
    "application/vnd.databricks.v1+cell": {
     "cellMetadata": {},
     "inputWidgets": {},
     "nuid": "c15b71bb-8a7d-4878-b01e-49596ba4f031",
     "showTitle": false,
     "tableResultSettingsMap": {},
     "title": ""
    }
   },
   "outputs": [],
   "source": [
    "CREATE OR REPLACE VIEW drug_taken_by_hospital\n",
    "COMMENT \"Hospital data using drugs brand\"\n",
    "AS SELECT\n",
    "  hospital_name,\n",
    "  drug_brand\n",
    "FROM user_drugs_silver\n",
    "GROUP BY hospital_name, drug_brand;\n",
    "\n",
    "CREATE OR REFRESH STREAMING TABLE drug_realtime_dashboard\n",
    "COMMENT \"Dashoard DRUG\"\n",
    "AS SELECT\n",
    "  window(drug_date_taken, '7 day') AS drug_taken_window,\n",
    "  drug_brand,\n",
    "  COUNT(drug_brand) AS drug_brand_taken\n",
    "FROM user_drugs_silver\n",
    "GROUP BY\n",
    "  drug_brand,\n",
    "  window(drug_date_taken, '7 day')"
   ]
  }
 ],
 "metadata": {
  "application/vnd.databricks.v1+notebook": {
   "computePreferences": null,
   "dashboards": [],
   "environmentMetadata": {
    "base_environment": "",
    "environment_version": "2"
   },
   "inputWidgetPreferences": null,
   "language": "sql",
   "notebookMetadata": {},
   "notebookName": "User Drug Gold Stage",
   "widgets": {}
  },
  "language_info": {
   "name": "sql"
  }
 },
 "nbformat": 4,
 "nbformat_minor": 0
}
