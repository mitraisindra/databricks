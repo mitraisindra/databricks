{
 "cells": [
  {
   "cell_type": "code",
   "execution_count": 0,
   "metadata": {
    "application/vnd.databricks.v1+cell": {
     "cellMetadata": {},
     "inputWidgets": {},
     "nuid": "11100899-9819-46c2-b4e4-083a7f648df0",
     "showTitle": false,
     "tableResultSettingsMap": {},
     "title": ""
    }
   },
   "outputs": [],
   "source": [
    "-- Having error [MATERIALIZED_VIEW_OPERATION_NOT_ALLOWED.MV_NOT_ENABLED] if using Materialized View so instead must use a regular Create View\n",
    "-- CREATE OR REFRESH MATERIALIZED VIEW transaction_drug_taken_by_hospital\n",
    "CREATE OR REPLACE VIEW transaction_drug_taken_by_hospital\n",
    "COMMENT \"Transaction on Drug Taken\"\n",
    "AS SELECT\n",
    "  hospital_name,\n",
    "  drug_brand,\n",
    "  transaction_qty,\n",
    "  transaction_date\n",
    "FROM transaction_user_drugs_silver\n",
    "GROUP BY hospital_name, drug_brand;\n",
    "\n",
    "CREATE OR REFRESH STREAMING TABLE transaction_realtime_dashboard\n",
    "COMMENT \"Dashoard Transaction\"\n",
    "AS SELECT\n",
    "  window(transaction_date, '7 day') AS drug_taken_window,\n",
    "  drug_brand,\n",
    "  SUM(transaction_qty) AS drug_brand_qty,\n",
    "  COUNT(transaction_qty) AS drug_brand_taken\n",
    "FROM transaction_user_drugs_silver)\n",
    "GROUP BY\n",
    "  drug_brand,\n",
    "  window(transaction_date, '7 day')"
   ]
  }
 ],
 "metadata": {
  "application/vnd.databricks.v1+notebook": {
   "computePreferences": null,
   "dashboards": [],
   "environmentMetadata": {
    "base_environment": "",
    "environment_version": "2"
   },
   "inputWidgetPreferences": null,
   "language": "sql",
   "notebookMetadata": {},
   "notebookName": "Transaction View Gold Stage",
   "widgets": {}
  },
  "language_info": {
   "name": "sql"
  }
 },
 "nbformat": 4,
 "nbformat_minor": 0
}
